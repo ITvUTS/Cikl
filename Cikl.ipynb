{
 "cells": [
  {
   "cell_type": "code",
   "execution_count": 1,
   "metadata": {},
   "outputs": [],
   "source": [
    "!pip install numpy\n",
    "!pip install matplotlib\n",
    "!pip install PyQt5\n",
    "%matplotlib qt\n",
    "import matplotlib.pyplot as plt\n",
    "import matplotlib.animation as manimation\n",
    "from mpl_toolkits.mplot3d import Axes3D\n",
    "import numpy as np"
   ]
  },
  {
   "cell_type": "code",
   "execution_count": 2,
   "metadata": {},
   "outputs": [],
   "source": [
    "#  0        1     2        3        4         5        6      7      8     9      10      11       12     13    14    15    16        17      18 19 20 21 22 23 24|25 26 27 28 29 30 31|32 33\n",
    "# Ax       Ay    Az       Gx       Gy        Gz       Mx      My    Mz     t      P       alt      yaw   pith  roll  fr     lat       lon     год gps             год модуль часы       sd save\n",
    "#112.37`-245.85`576.66`-53756.71`70343.02`74882.51`-1843.65`282.56`627.26`30.01`97582.25`316.38`-159.27`4.03`-27.69`60.01`435897.75`437702.03`2019`3`6`10`57`0`0`2019`3`6`13`59`59`808`1`\n",
    "# <6 /1000  -470 -120 -125\n",
    "dt_1 = np.dtype([('Ax','f4'),('Ay','f4'),('Az','f4'),('Gx','f4'),('Gy','f4'),('Gz','f4'),('Mx','f4'),('My','f4'),('Mz','f4'),('t','f4'),('P','f4'),('alt','f4'),('yaw','f4'),('pith','f4'),('roll','f4'),('fr','f4'),('lat','f8'),('lon','f8'),('gyear','u2'),('gmonth','u2'),('gday','u2'),('ghour','u2'),('gminute','u2'),('gsecond','u2'),('gcentisecond','u2'),('year','u2'),('month','u2'),('day','u2'),('hour','u2'),('minute','u2'),('second','u2'),('milisecond','u2'),('sd','B'),])\n",
    "data = np.genfromtxt('All_2019030615.txt', dtype=dt_1, delimiter='`')"
   ]
  },
  {
   "cell_type": "code",
   "execution_count": 3,
   "metadata": {},
   "outputs": [
    {
     "name": "stdout",
     "output_type": "stream",
     "text": [
      "435897.25 435899.09 437700.44 437703.63 315.56 320.84\n"
     ]
    }
   ],
   "source": [
    "data=np.extract(data['lon']>=420000,data);\n",
    "x,y,z = data['lat'],data['lon'],data['alt']\n",
    "print(np.min(x),np.max(x),np.min(y),np.max(y),np.min(z),np.max(z))\n",
    "#x = 10*(x - np.min(x))/np.ptp(x)\n",
    "#y = 10*(y - np.min(y))/np.ptp(y)\n",
    "z = (z - np.min(z))"
   ]
  },
  {
   "cell_type": "code",
   "execution_count": 4,
   "metadata": {},
   "outputs": [],
   "source": [
    "fig = plt.figure()\n",
    "ax = fig.add_subplot(111, projection='3d')\n",
    "ax.plot(x, y, z, label='parametric curve')\n",
    "ax.set_xlabel('X')\n",
    "ax.set_ylabel('Y')\n",
    "ax.set_zlabel('Z')\n",
    "plt.show()"
   ]
  },
  {
   "cell_type": "code",
   "execution_count": null,
   "metadata": {},
   "outputs": [],
   "source": []
  }
 ],
 "metadata": {
  "kernelspec": {
   "display_name": "Python 3",
   "language": "python",
   "name": "python3"
  },
  "language_info": {
   "codemirror_mode": {
    "name": "ipython",
    "version": 3
   },
   "file_extension": ".py",
   "mimetype": "text/x-python",
   "name": "python",
   "nbconvert_exporter": "python",
   "pygments_lexer": "ipython3",
   "version": "3.6.8"
  }
 },
 "nbformat": 4,
 "nbformat_minor": 2
}
